{
 "cells": [
  {
   "cell_type": "code",
   "execution_count": 1,
   "metadata": {},
   "outputs": [],
   "source": [
    "from langchain.llms import LlamaCpp\n",
    "from langchain import PromptTemplate, LLMChain\n",
    "from langchain.callbacks.manager import CallbackManager\n",
    "from langchain.callbacks.streaming_stdout import (\n",
    "    StreamingStdOutCallbackHandler\n",
    ")\n",
    "from langchain.vectorstores import FAISS\n",
    "from langchain.embeddings import HuggingFaceInstructEmbeddings\n",
    "from langchain.document_loaders import UnstructuredFileLoader\n",
    "from langchain.text_splitter import RecursiveCharacterTextSplitter"
   ]
  },
  {
   "cell_type": "code",
   "execution_count": 2,
   "metadata": {},
   "outputs": [],
   "source": [
    "template = \"\"\"Question: {question}\n",
    "\n",
    "Answer:\"\"\"\n",
    "\n",
    "prompt = PromptTemplate(template=template, input_variables=[\"question\"])\n",
    "callback_manager = CallbackManager([StreamingStdOutCallbackHandler()])"
   ]
  },
  {
   "cell_type": "code",
   "execution_count": 3,
   "metadata": {},
   "outputs": [
    {
     "name": "stderr",
     "output_type": "stream",
     "text": [
      "llama.cpp: loading model from llama-2-7b-chat.ggmlv3.q5_0.bin\n",
      "llama_model_load_internal: format     = ggjt v3 (latest)\n",
      "llama_model_load_internal: n_vocab    = 32000\n",
      "llama_model_load_internal: n_ctx      = 6000\n",
      "llama_model_load_internal: n_embd     = 4096\n",
      "llama_model_load_internal: n_mult     = 256\n",
      "llama_model_load_internal: n_head     = 32\n",
      "llama_model_load_internal: n_head_kv  = 32\n",
      "llama_model_load_internal: n_layer    = 32\n",
      "llama_model_load_internal: n_rot      = 128\n",
      "llama_model_load_internal: n_gqa      = 1\n",
      "llama_model_load_internal: rnorm_eps  = 5.0e-06\n",
      "llama_model_load_internal: n_ff       = 11008\n",
      "llama_model_load_internal: freq_base  = 10000.0\n",
      "llama_model_load_internal: freq_scale = 1\n",
      "llama_model_load_internal: ftype      = 8 (mostly Q5_0)\n",
      "llama_model_load_internal: model size = 7B\n",
      "llama_model_load_internal: ggml ctx size =    0.08 MB\n",
      "llama_model_load_internal: mem required  = 4418.98 MB (+ 3000.00 MB per state)\n",
      "llama_new_context_with_model: kv self size  = 3000.00 MB\n",
      "llama_new_context_with_model: compute buffer total size =  400.35 MB\n",
      "AVX = 0 | AVX2 = 0 | AVX512 = 0 | AVX512_VBMI = 0 | AVX512_VNNI = 0 | FMA = 0 | NEON = 0 | ARM_FMA = 0 | F16C = 0 | FP16_VA = 0 | WASM_SIMD = 0 | BLAS = 1 | SSE3 = 1 | VSX = 0 | \n"
     ]
    }
   ],
   "source": [
    "llm = LlamaCpp(\n",
    "    model_path=\"llama-2-7b-chat.ggmlv3.q5_0.bin\",\n",
    "    n_ctx=6000,\n",
    "    n_gpu_layers=512,\n",
    "    n_batch=30,\n",
    "    callback_manager=callback_manager,\n",
    "    temperature = 0.9,\n",
    "    max_tokens = 4095,\n",
    "    n_parts=1,\n",
    "    \n",
    ")\n",
    "\n",
    "llm_chain = LLMChain(prompt=prompt, llm=llm)"
   ]
  },
  {
   "cell_type": "code",
   "execution_count": 7,
   "metadata": {},
   "outputs": [
    {
     "name": "stderr",
     "output_type": "stream",
     "text": [
      "Downloading (…)c7233/.gitattributes: 100%|██████████| 1.48k/1.48k [00:00<00:00, 303kB/s]\n",
      "Downloading (…)_Pooling/config.json: 100%|██████████| 270/270 [00:00<00:00, 54.5kB/s]\n",
      "Downloading (…)/2_Dense/config.json: 100%|██████████| 116/116 [00:00<00:00, 72.0kB/s]\n",
      "Downloading pytorch_model.bin: 100%|██████████| 3.15M/3.15M [00:00<00:00, 4.79MB/s]\n",
      "Downloading (…)9fb15c7233/README.md: 100%|██████████| 66.3k/66.3k [00:00<00:00, 376kB/s]\n",
      "Downloading (…)b15c7233/config.json: 100%|██████████| 1.53k/1.53k [00:00<00:00, 907kB/s]\n",
      "Downloading (…)ce_transformers.json: 100%|██████████| 122/122 [00:00<00:00, 66.3kB/s]\n",
      "Downloading pytorch_model.bin: 100%|██████████| 1.34G/1.34G [03:40<00:00, 6.07MB/s]\n",
      "Downloading (…)nce_bert_config.json: 100%|██████████| 53.0/53.0 [00:00<00:00, 23.1kB/s]\n",
      "Downloading (…)cial_tokens_map.json: 100%|██████████| 2.20k/2.20k [00:00<00:00, 888kB/s]\n",
      "Downloading spiece.model: 100%|██████████| 792k/792k [00:00<00:00, 8.61MB/s]\n",
      "Downloading (…)c7233/tokenizer.json: 100%|██████████| 2.42M/2.42M [00:01<00:00, 2.26MB/s]\n",
      "Downloading (…)okenizer_config.json: 100%|██████████| 2.41k/2.41k [00:00<00:00, 953kB/s]\n",
      "Downloading (…)15c7233/modules.json: 100%|██████████| 461/461 [00:00<00:00, 225kB/s]\n"
     ]
    },
    {
     "name": "stdout",
     "output_type": "stream",
     "text": [
      "load INSTRUCTOR_Transformer\n",
      "max_seq_length  512\n"
     ]
    }
   ],
   "source": [
    "loader = UnstructuredFileLoader(\"test.pdf\")\n",
    "documents = loader.load()\n",
    "text_splitter = RecursiveCharacterTextSplitter(chunk_size=1000, chunk_overlap=50)\n",
    "docs = text_splitter.split_documents(documents)\n",
    "\n",
    "# embedding engine\n",
    "hf_embedding = HuggingFaceInstructEmbeddings()"
   ]
  },
  {
   "cell_type": "code",
   "execution_count": 9,
   "metadata": {},
   "outputs": [],
   "source": [
    "db = FAISS.from_documents(docs, hf_embedding)\n",
    "\n",
    "# save embeddings in local directory\n",
    "db.save_local(\"faiss_AiArticle\")\n",
    "\n",
    "# load from local\n",
    "db = FAISS.load_local(\"faiss_AiArticle/\", embeddings=hf_embedding)"
   ]
  },
  {
   "cell_type": "code",
   "execution_count": 10,
   "metadata": {},
   "outputs": [],
   "source": [
    "query = \"what is the main idea of this paper?\"\n",
    "search = db.similarity_search(query, k=2)"
   ]
  },
  {
   "cell_type": "code",
   "execution_count": 11,
   "metadata": {},
   "outputs": [],
   "source": [
    "template = '''Context: {context}\n",
    "\n",
    "Based on Context provide me answer for following question\n",
    "Question: {question}\n",
    "\n",
    "Tell me the information about the fact. The answer should be from context only\n",
    "do not use general knowledge to answer the query'''\n",
    "\n",
    "prompt = PromptTemplate(input_variables=[\"context\", \"question\"], template= template)\n",
    "final_prompt = prompt.format(question=query, context=search)"
   ]
  },
  {
   "cell_type": "code",
   "execution_count": 12,
   "metadata": {},
   "outputs": [
    {
     "name": "stdout",
     "output_type": "stream",
     "text": [
      " Based on the provided context, the main idea of this paper appears to be the development and evaluation of a new approach for improving the performance of real-time applications in computer systems. Specifically, the authors propose and evaluate a heuristic called ECON that enhances the capacity of the system to improve its performance in real-time applications. The paper presents a detailed description of the proposed approach, as well as numerical results to compare the performance of ECON with the baseline approach."
     ]
    },
    {
     "name": "stderr",
     "output_type": "stream",
     "text": [
      "\n",
      "llama_print_timings:        load time = 38329.90 ms\n",
      "llama_print_timings:      sample time =    86.47 ms /    99 runs   (    0.87 ms per token,  1144.85 tokens per second)\n",
      "llama_print_timings: prompt eval time = 253308.98 ms /   245 tokens ( 1033.91 ms per token,     0.97 tokens per second)\n",
      "llama_print_timings:        eval time = 102015.26 ms /    98 runs   ( 1040.97 ms per token,     0.96 tokens per second)\n",
      "llama_print_timings:       total time = 355708.74 ms\n"
     ]
    },
    {
     "data": {
      "text/plain": [
       "' Based on the provided context, the main idea of this paper appears to be the development and evaluation of a new approach for improving the performance of real-time applications in computer systems. Specifically, the authors propose and evaluate a heuristic called ECON that enhances the capacity of the system to improve its performance in real-time applications. The paper presents a detailed description of the proposed approach, as well as numerical results to compare the performance of ECON with the baseline approach.'"
      ]
     },
     "execution_count": 12,
     "metadata": {},
     "output_type": "execute_result"
    }
   ],
   "source": [
    "llm_chain.run(final_prompt)"
   ]
  },
  {
   "cell_type": "code",
   "execution_count": null,
   "metadata": {},
   "outputs": [],
   "source": []
  }
 ],
 "metadata": {
  "kernelspec": {
   "display_name": "pyScript",
   "language": "python",
   "name": "python3"
  },
  "language_info": {
   "codemirror_mode": {
    "name": "ipython",
    "version": 3
   },
   "file_extension": ".py",
   "mimetype": "text/x-python",
   "name": "python",
   "nbconvert_exporter": "python",
   "pygments_lexer": "ipython3",
   "version": "3.8.16"
  },
  "orig_nbformat": 4
 },
 "nbformat": 4,
 "nbformat_minor": 2
}
